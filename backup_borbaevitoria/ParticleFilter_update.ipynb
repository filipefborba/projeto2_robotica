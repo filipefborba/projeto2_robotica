{
 "cells": [
  {
   "cell_type": "markdown",
   "metadata": {},
   "source": [
    "# <font color=\"blue\">Filipe Borba e Vitória Mattos</font>"
   ]
  },
  {
   "cell_type": "markdown",
   "metadata": {},
   "source": [
    "# Filtro de partículas\n",
    "\n",
    "\n",
    "Cada partícula vai ser representada por uma lista [x,y,theta]\n",
    "\n",
    "Trabalhe com 2 listas:\n",
    "\n",
    "\tS = []  # Vai conter as n partículas. \n",
    "\n",
    "\tW = [] # Pesos das partículas\n",
    "\n",
    "\tn_part = # Número de partículas\n",
    "\n",
    "\n",
    "# Atividades\n",
    "\n",
    "\n",
    "1. Crie uma função que gere n partículas aleatórias distribuidas uniformemente dentro de uma área minx, miny, maxx, maxy (passados como parâmetros). Veja a funcao \n",
    "\n",
    "\tDevolve uma lista com n partículas\n",
    "\n",
    "2. Descubra como desenhar as n partículas (analise o módulo inspercles)\n",
    "\n",
    "3. Faça o desenho das partículas\n",
    "\n",
    "4. Crie uma lista para simular os movimentos do robô. Veja a lista chamada <code>movimentos</code> que é usada na seção *Teste de animação*, mais abaixo\n",
    "\n",
    "5. Crie uma função que aplica um deslocamento [delta_x, delta_y, delta_theta] com um desvio padrão [std_x, std_y, std_theta] a todas as partículas\n",
    "\n",
    "6. Desenhe as partículas após o deslocamento\n",
    "\n",
    "7. Descubra como calcular $P(D|H)$ analisando o Python Notebook. A função que traça os raios está no modulo inspercles\n",
    "\n",
    "Programe a aplicação da equação que está na pág. 853 do livro do Norvig $$P(z_t | x_t) = \\alpha \\prod_{j}^M{e^{\\frac{-(z_j - \\hat{z_j})}{2\\sigma^2}}}$$\n",
    "\n",
    "Ou seja, para cada raio estimado $\\hat{z_j}$ e leitura real $z_j$ calcule a probabilidade daquele raio ter acontecido dado que a posição do robô fosse de fato a da partícula\n",
    "\n",
    "\n",
    "8 . Usando os resultados de 7 calcule $P(H|D)$ e insira numa lista de probabilidades das partículas\n",
    "\n",
    "9 . Reamostre as partículas de forma proporcional à probabilidade\n",
    "\n"
   ]
  },
  {
   "cell_type": "code",
   "execution_count": 1,
   "metadata": {},
   "outputs": [],
   "source": [
    "from random import randint, choice\n",
    "import time\n",
    "import matplotlib.pyplot as plt\n",
    "import matplotlib.patches as mpatches\n",
    "import numpy as np\n",
    "import math\n",
    "import random\n",
    "from pf import Particle\n",
    "from nav_msgs.msg import OccupancyGrid\n",
    "from occupancy_field import OccupancyField\n",
    "from helper_functions import angle_normalize, angle_diff\n",
    "\n",
    "import cv2\n",
    "\n",
    "import sys\n",
    "import os\n",
    "os.getcwd() \n",
    "import sys\n",
    "sys.path.append(os.getcwd())\n",
    "\n",
    "\n",
    "import inspercles\n",
    "reload(inspercles)\n",
    "\n",
    "\n",
    "# Para suprimir alguns warnings do Matplotlib Inline\n",
    "import warnings\n",
    "warnings.simplefilter('ignore')\n",
    "%matplotlib inline\n"
   ]
  },
  {
   "cell_type": "markdown",
   "metadata": {},
   "source": [
    "## Diretõrio de trabalho"
   ]
  },
  {
   "cell_type": "code",
   "execution_count": 2,
   "metadata": {},
   "outputs": [
    {
     "name": "stdout",
     "output_type": "stream",
     "text": [
      "/home/borg/catkin_ws/src/robot17/particle_filter/jupyter_particle\r\n"
     ]
    }
   ],
   "source": [
    "!pwd\n",
    "\n",
    "\n"
   ]
  },
  {
   "cell_type": "code",
   "execution_count": 3,
   "metadata": {
    "collapsed": true
   },
   "outputs": [],
   "source": [
    "# Dados do arquivo mapa.yaml\n",
    "\n",
    "resolution = 0.020000\n",
    "origin =  [-5.000000, -5.000000, 0.000000]\n",
    "occupied_thresh = 0.8\n",
    "free_thresh =  0.2\n",
    "\n",
    "inspercles.free_thresh = free_thresh # Limiar em tons de cinza para que uma celula seja considerada livre\n",
    "inspercles.occupied_thresh = occupied_thresh # Limiar de celula ocupada\n",
    "inspercles.origin = origin\n",
    "inspercles.resolution = resolution\n"
   ]
  },
  {
   "cell_type": "code",
   "execution_count": 4,
   "metadata": {
    "collapsed": true
   },
   "outputs": [],
   "source": [
    "\n",
    "\n",
    "from PIL import Image as PilImage\n",
    "\n",
    "\n",
    "color_image = cv2.imread(\"sparse_obstacles.png\")\n",
    "pil_image = color_image\n",
    "np_image = cv2.cvtColor(color_image, cv2.COLOR_BGR2GRAY)\n",
    "\n",
    "\n",
    "#color_image = PilImage.open(\"sparse_obstacles.png\", 'r')\n",
    "#pil_image = color_image.convert('1') # Converte a imagem PIL para Grayscale\n",
    "#np_image = np.asarray(pil_image)\n",
    "\n",
    "particle_size = 10\n",
    "\n",
    "#import matplotlib_render as plotmap\n",
    "\n",
    "\n",
    "back_color = \"black\"\n",
    "colors     = ['red', 'green', 'cyan', 'yellow']\n",
    "width, height = 775, 746\n",
    "\n",
    "inspercles.width = width\n",
    "inspercles.height = height\n",
    "\n",
    "\n",
    "\n",
    "\n",
    "initial_pose = [200, 200, math.pi/8] # Posicao inicial considerada para o pf\n",
    "inspercles.initial_pose = initial_pose\n",
    "pose = [330, 220, math.radians(90)] # posicao \"verdadeira\" do robo \n",
    "inspercles.pose = pose\n",
    "robot_radius=10   # Raio do robo\n",
    "inspercles.robot_radius = robot_radius\n",
    "\n",
    "\n",
    "# Os angulos em que o robo simulado vai ter sensores\n",
    "angles = np.linspace(0.0, 2*math.pi, num=8)\n",
    "\n",
    "particle_cloud = []\n",
    "\n",
    "\n",
    "\n",
    "    \n",
    "    \n",
    "    \n",
    "    "
   ]
  },
  {
   "cell_type": "markdown",
   "metadata": {},
   "source": [
    "## Mapa com posição inicial"
   ]
  },
  {
   "cell_type": "code",
   "execution_count": 5,
   "metadata": {
    "scrolled": false
   },
   "outputs": [
    {
     "data": {
      "text/plain": [
       "<matplotlib.axes._subplots.AxesSubplot at 0x7f73d06370d0>"
      ]
     },
     "execution_count": 5,
     "metadata": {},
     "output_type": "execute_result"
    },
    {
     "data": {
      "image/png": "[encoded data removed]",
      "text/plain": [
       "<matplotlib.figure.Figure at 0x7f738ce1add0>"
      ]
     },
     "metadata": {},
     "output_type": "display_data"
    }
   ],
   "source": [
    "inspercles.nb_draw_map(color_image, pose=pose, robot=True)"
   ]
  },
  {
   "cell_type": "markdown",
   "metadata": {},
   "source": [
    "A função *nb_initialize_particle_cloud()* pertence ao módulo <code>inspercles</code> e já faz uma primeira aleatorização das partículas"
   ]
  },
  {
   "cell_type": "code",
   "execution_count": 6,
   "metadata": {
    "collapsed": true
   },
   "outputs": [],
   "source": [
    "# Inicializa as particulas\n",
    "particulas = inspercles.nb_initialize_particle_cloud()"
   ]
  },
  {
   "cell_type": "code",
   "execution_count": 7,
   "metadata": {
    "scrolled": false
   },
   "outputs": [
    {
     "data": {
      "text/plain": [
       "<matplotlib.axes._subplots.AxesSubplot at 0x7f738ce1acd0>"
      ]
     },
     "execution_count": 7,
     "metadata": {},
     "output_type": "execute_result"
    },
    {
     "data": {
      "image/png": "[encoded data removed]",
      "text/plain": [
       "<matplotlib.figure.Figure at 0x7f738cdfdc50>"
      ]
     },
     "metadata": {},
     "output_type": "display_data"
    }
   ],
   "source": [
    "inspercles.nb_draw_map(color_image, particles = particulas, initial_position = initial_pose, pose=pose, robot=True)"
   ]
  },
  {
   "cell_type": "code",
   "execution_count": 8,
   "metadata": {},
   "outputs": [
    {
     "data": {
      "text/plain": [
       "array([ 0.        ,  0.8975979 ,  1.7951958 ,  2.6927937 ,  3.5903916 ,\n",
       "        4.48798951,  5.38558741,  6.28318531])"
      ]
     },
     "execution_count": 8,
     "metadata": {},
     "output_type": "execute_result"
    }
   ],
   "source": [
    "angles"
   ]
  },
  {
   "cell_type": "markdown",
   "metadata": {},
   "source": [
    "# Simulação da imagem do laser"
   ]
  },
  {
   "cell_type": "markdown",
   "metadata": {},
   "source": [
    "Para simular a leitura **real** do robo, use *nb_simulate_lidar* passando a posição real do robô, os ângulos do sensor e a np_image com o mapa"
   ]
  },
  {
   "cell_type": "code",
   "execution_count": 9,
   "metadata": {},
   "outputs": [
    {
     "ename": "NameError",
     "evalue": "global name 'rayline' is not defined",
     "output_type": "error",
     "traceback": [
      "\u001b[0;31m---------------------------------------------------------------------------\u001b[0m",
      "\u001b[0;31mNameError\u001b[0m                                 Traceback (most recent call last)",
      "\u001b[0;32m<ipython-input-9-4d7805ab352b>\u001b[0m in \u001b[0;36m<module>\u001b[0;34m()\u001b[0m\n\u001b[0;32m----> 1\u001b[0;31m \u001b[0mleituras\u001b[0m\u001b[0;34m,\u001b[0m \u001b[0mlidar_map\u001b[0m \u001b[0;34m=\u001b[0m \u001b[0minspercles\u001b[0m\u001b[0;34m.\u001b[0m\u001b[0mnb_simulate_lidar_fast\u001b[0m\u001b[0;34m(\u001b[0m\u001b[0mpose\u001b[0m\u001b[0;34m,\u001b[0m \u001b[0mangles\u001b[0m\u001b[0;34m,\u001b[0m \u001b[0mnp_image\u001b[0m\u001b[0;34m)\u001b[0m\u001b[0;34m\u001b[0m\u001b[0m\n\u001b[0m",
      "\u001b[0;32m/home/borg/catkin_ws/src/robot17/particle_filter/jupyter_particle/inspercles.pyc\u001b[0m in \u001b[0;36mnb_simulate_lidar_fast\u001b[0;34m(robot_pose, angles, img, retorno, output_image)\u001b[0m\n\u001b[1;32m    409\u001b[0m \u001b[0;34m\u001b[0m\u001b[0m\n\u001b[1;32m    410\u001b[0m \u001b[0;34m\u001b[0m\u001b[0m\n\u001b[0;32m--> 411\u001b[0;31m         \u001b[0mdist\u001b[0m\u001b[0;34m,\u001b[0m \u001b[0mponto\u001b[0m \u001b[0;34m=\u001b[0m \u001b[0mintersecao_mais_proxima\u001b[0m\u001b[0;34m(\u001b[0m\u001b[0mray_origin\u001b[0m\u001b[0;34m,\u001b[0m \u001b[0mray_direction\u001b[0m\u001b[0;34m,\u001b[0m \u001b[0mlines\u001b[0m\u001b[0;34m)\u001b[0m\u001b[0;34m\u001b[0m\u001b[0m\n\u001b[0m\u001b[1;32m    412\u001b[0m \u001b[0;34m\u001b[0m\u001b[0m\n\u001b[1;32m    413\u001b[0m \u001b[0;34m\u001b[0m\u001b[0m\n",
      "\u001b[0;32m/home/borg/catkin_ws/src/robot17/particle_filter/jupyter_particle/inspercles.pyc\u001b[0m in \u001b[0;36mintersecao_mais_proxima\u001b[0;34m(ray_origin, ray_direction, lines)\u001b[0m\n\u001b[1;32m    320\u001b[0m         \u001b[0mDentre\u001b[0m \u001b[0;32mas\u001b[0m \u001b[0minterese\u001b[0m\u001b[0;31mç\u001b[0m\u001b[0moes\u001b[0m\u001b[0;34m,\u001b[0m \u001b[0macha\u001b[0m \u001b[0ma\u001b[0m \u001b[0mmais\u001b[0m \u001b[0mpr\u001b[0m\u001b[0;31mó\u001b[0m\u001b[0mxima\u001b[0m\u001b[0;34m\u001b[0m\u001b[0m\n\u001b[1;32m    321\u001b[0m     \"\"\"\n\u001b[0;32m--> 322\u001b[0;31m     \u001b[0mintersecoes\u001b[0m \u001b[0;34m=\u001b[0m \u001b[0mintersecao_linhas\u001b[0m\u001b[0;34m(\u001b[0m\u001b[0mray_origin\u001b[0m\u001b[0;34m,\u001b[0m \u001b[0mray_direction\u001b[0m\u001b[0;34m,\u001b[0m \u001b[0mlines\u001b[0m\u001b[0;34m)\u001b[0m\u001b[0;34m\u001b[0m\u001b[0m\n\u001b[0m\u001b[1;32m    323\u001b[0m     \u001b[0mx\u001b[0m \u001b[0;34m=\u001b[0m \u001b[0mray_origin\u001b[0m\u001b[0;34m[\u001b[0m\u001b[0;36m0\u001b[0m\u001b[0;34m]\u001b[0m\u001b[0;34m\u001b[0m\u001b[0m\n\u001b[1;32m    324\u001b[0m     \u001b[0my\u001b[0m \u001b[0;34m=\u001b[0m \u001b[0mray_origin\u001b[0m\u001b[0;34m[\u001b[0m\u001b[0;36m1\u001b[0m\u001b[0;34m]\u001b[0m\u001b[0;34m\u001b[0m\u001b[0m\n",
      "\u001b[0;32m/home/borg/catkin_ws/src/robot17/particle_filter/jupyter_particle/inspercles.pyc\u001b[0m in \u001b[0;36mintersecao_linhas\u001b[0;34m(ray_origin, ray_direction, lines)\u001b[0m\n\u001b[1;32m    340\u001b[0m         \u001b[0mp1\u001b[0m \u001b[0;34m=\u001b[0m \u001b[0;34m(\u001b[0m\u001b[0mlines\u001b[0m\u001b[0;34m[\u001b[0m\u001b[0mi\u001b[0m\u001b[0;34m]\u001b[0m\u001b[0;34m[\u001b[0m\u001b[0;36m0\u001b[0m\u001b[0;34m]\u001b[0m\u001b[0;34m[\u001b[0m\u001b[0;36m0\u001b[0m\u001b[0;34m]\u001b[0m\u001b[0;34m,\u001b[0m \u001b[0mlines\u001b[0m\u001b[0;34m[\u001b[0m\u001b[0mi\u001b[0m\u001b[0;34m]\u001b[0m\u001b[0;34m[\u001b[0m\u001b[0;36m0\u001b[0m\u001b[0;34m]\u001b[0m\u001b[0;34m[\u001b[0m\u001b[0;36m1\u001b[0m\u001b[0;34m]\u001b[0m\u001b[0;34m)\u001b[0m\u001b[0;34m\u001b[0m\u001b[0m\n\u001b[1;32m    341\u001b[0m         \u001b[0mp2\u001b[0m \u001b[0;34m=\u001b[0m \u001b[0;34m(\u001b[0m\u001b[0mlines\u001b[0m\u001b[0;34m[\u001b[0m\u001b[0mi\u001b[0m\u001b[0;34m]\u001b[0m\u001b[0;34m[\u001b[0m\u001b[0;36m0\u001b[0m\u001b[0;34m]\u001b[0m\u001b[0;34m[\u001b[0m\u001b[0;36m2\u001b[0m\u001b[0;34m]\u001b[0m\u001b[0;34m,\u001b[0m \u001b[0mlines\u001b[0m\u001b[0;34m[\u001b[0m\u001b[0mi\u001b[0m\u001b[0;34m]\u001b[0m\u001b[0;34m[\u001b[0m\u001b[0;36m0\u001b[0m\u001b[0;34m]\u001b[0m\u001b[0;34m[\u001b[0m\u001b[0;36m3\u001b[0m\u001b[0;34m]\u001b[0m\u001b[0;34m)\u001b[0m\u001b[0;34m\u001b[0m\u001b[0m\n\u001b[0;32m--> 342\u001b[0;31m         \u001b[0minter\u001b[0m \u001b[0;34m=\u001b[0m \u001b[0mrayline\u001b[0m\u001b[0;34m.\u001b[0m\u001b[0mlineRayIntersectionPoint\u001b[0m\u001b[0;34m(\u001b[0m\u001b[0mray_origin\u001b[0m\u001b[0;34m,\u001b[0m \u001b[0mray_direction\u001b[0m\u001b[0;34m,\u001b[0m \u001b[0mp1\u001b[0m\u001b[0;34m,\u001b[0m \u001b[0mp2\u001b[0m\u001b[0;34m)\u001b[0m\u001b[0;34m\u001b[0m\u001b[0m\n\u001b[0m\u001b[1;32m    343\u001b[0m         \u001b[0;31m#print(\"p1 \", p1)\u001b[0m\u001b[0;34m\u001b[0m\u001b[0;34m\u001b[0m\u001b[0m\n\u001b[1;32m    344\u001b[0m         \u001b[0;31m#print(\"p2 \", p2)\u001b[0m\u001b[0;34m\u001b[0m\u001b[0;34m\u001b[0m\u001b[0m\n",
      "\u001b[0;31mNameError\u001b[0m: global name 'rayline' is not defined"
     ]
    }
   ],
   "source": [
    "leituras, lidar_map = inspercles.nb_simulate_lidar_fast(pose, angles, np_image)\n"
   ]
  },
  {
   "cell_type": "code",
   "execution_count": null,
   "metadata": {
    "scrolled": false
   },
   "outputs": [],
   "source": [
    "ax = inspercles.nb_draw_map(lidar_map, robot=True, pose=pose)\n",
    "ax.imshow(color_image, alpha=0.8)\n",
    "#nb_draw_map(occupancy_image)"
   ]
  },
  {
   "cell_type": "markdown",
   "metadata": {},
   "source": [
    "As leituras serao retornadas pela simulacao do lidar. Sao armazenadas na forma de um dicionario com angulo: valor da leitura"
   ]
  },
  {
   "cell_type": "code",
   "execution_count": null,
   "metadata": {},
   "outputs": [],
   "source": [
    "# As predicoes teoricas das leituras\n",
    "leituras"
   ]
  },
  {
   "cell_type": "code",
   "execution_count": null,
   "metadata": {},
   "outputs": [],
   "source": [
    "ax = inspercles.nb_draw_map(lidar_map, pose=pose, robot=True)\n",
    "#ax.imshow(occupancy_image, alpha=0.2)\n",
    "ax.imshow(pil_image, alpha=0.5)"
   ]
  },
  {
   "cell_type": "code",
   "execution_count": null,
   "metadata": {},
   "outputs": [],
   "source": [
    "ax = inspercles.nb_draw_map(pil_image, pose=pose, robot=True, particles=particulas)\n",
    "#ax.imshow(occupancy_image, alpha=0.2)\n",
    "ax.imshow(lidar_map, alpha=0.5)"
   ]
  },
  {
   "cell_type": "markdown",
   "metadata": {},
   "source": [
    "## Gerando uma animação"
   ]
  },
  {
   "cell_type": "code",
   "execution_count": null,
   "metadata": {
    "collapsed": true
   },
   "outputs": [],
   "source": [
    "# Coloque nesta lista os deslocamentos do robo\n",
    "\n",
    "movimentos = [[-10, -10, 0], [-10, 10, 0], [-10,0,0], [-10, 0, 0],\n",
    "              [0,0,math.pi/12.0], [0, 0, math.pi/12.0], [0, 0, math.pi/12],[0,0,-math.pi/4],\n",
    "              [-5, 0, 0],[-5,0,0], [-5,0,0], [-10,0,0],[-10,0,0], [-10,0,0],[-10,0,0],[-10,0,0],[-15,0,0],\n",
    "              [0,0,-math.pi/4],[0, 10, 0], [0,10,0], [0, 10, 0], [0,10,0], [0,0,math.pi/8], [0,10,0], [0,10,0], \n",
    "              [0,10,0], [0,10,0], [0,10,0],[0,10,0],\n",
    "              [0,0,-math.radians(90)],\n",
    "              [math.cos(math.pi/3)*10, math.sin(math.pi/3),0],[math.cos(math.pi/3)*10, math.sin(math.pi/3),0],[math.cos(math.pi/3)*10, math.sin(math.pi/3),0],\n",
    "              [math.cos(math.pi/3)*10, math.sin(math.pi/3),0]\n",
    "             ]\n"
   ]
  },
  {
   "cell_type": "code",
   "execution_count": null,
   "metadata": {
    "collapsed": true
   },
   "outputs": [],
   "source": [
    "\n",
    "plt.ioff() # Desliga o modo interativo, para nao aparecerem muitas imagens no meio\n",
    "\n",
    "frames = 1\n",
    "\n",
    "for delta in movimentos:\n",
    "    for i in range(len(pose)):\n",
    "        pose[i]+=delta[i]\n",
    "\n",
    "    # Simula a leitura do lidar\n",
    "    leituras, lidar_map = inspercles.nb_simulate_lidar_fast(pose, angles, np_image)\n",
    "\n",
    "    # Desenha as particulas\n",
    "    ax = inspercles.nb_draw_map(color_image, pose=pose, robot=True, particles=particulas)\n",
    "    #ax.imshow(occupancy_image, alph.2)\n",
    "    # Desenha o mapa do lidar\n",
    "    ax.imshow(lidar_map, alpha=0.5)\n",
    "\n",
    "    plt.savefig(\"anim%04d.png\"%frames, bounds=\"tight\")\n",
    "    \n",
    "    frames+=1\n",
    "    plt.close('all')\n",
    "\n",
    "\n",
    "plt.ion()\n",
    "\n"
   ]
  },
  {
   "cell_type": "markdown",
   "metadata": {},
   "source": [
    "Para gerar os gifs é preciso ter o pacote *imagemagick*\n",
    "\n",
    "O imagemagick pode ser obtido com o seguinte comando:\n",
    "    sudo apt-get install imagemagick \n",
    "    \n",
    "Agora vamos invocar na linha de comando o seguinte comando:\n",
    "    convert -delay 10 -loop 1 anim*png animated.gif\n",
    "    \n",
    "Este comando criou um arquivo chamado *animated.fig*, que leremos abaixo:\n",
    "    "
   ]
  },
  {
   "cell_type": "code",
   "execution_count": null,
   "metadata": {
    "collapsed": true
   },
   "outputs": [],
   "source": [
    "!convert -delay 10 -loop 1 anim*png animated.gif"
   ]
  },
  {
   "cell_type": "markdown",
   "metadata": {},
   "source": [
    "Infelizmente o IPython Notebook 2 nao parece exibir animacoes em Gif por default, mas voce pode abrir o arquivo no diretorio de trabalho e devera'  ve-lo.\n",
    "\n",
    "<img src=\"animated.gif\">"
   ]
  },
  {
   "cell_type": "markdown",
   "metadata": {},
   "source": [
    "# Começando a Atividade"
   ]
  },
  {
   "cell_type": "code",
   "execution_count": null,
   "metadata": {
    "collapsed": true
   },
   "outputs": [],
   "source": [
    "def criar_particulas(n, minx, miny, maxx, maxy):\n",
    "    particle_cloud = []\n",
    "    for i in range(n):\n",
    "        x = random.uniform(minx, maxx)\n",
    "        y = random.uniform(miny, maxy)\n",
    "        theta = random.uniform(math.radians(0), math.radians(360))\n",
    "        p = Particle(x, y, theta, w=1.0) # A prob. w vai ser normalizada depois\n",
    "        particle_cloud.append(p)\n",
    "    return particle_cloud"
   ]
  },
  {
   "cell_type": "code",
   "execution_count": null,
   "metadata": {
    "collapsed": true
   },
   "outputs": [],
   "source": [
    "#Desenhando as partículas\n",
    "def desenhar_setas(x, y, theta, ax, l = 15, color='y', headwidth=3.0, headlength=3, width=0.001):\n",
    "    #Desenha uma seta na posição x, y com um ângulo theta\n",
    "    #ax é o contexto gráfico\n",
    "    deltax = l*math.cos(theta)\n",
    "    deltay = l*math.sin(theta)\n",
    "    ax.arrow(x, y, deltax, deltay, head_width=headwidth, head_length=headlength, fc=color,  ec=color, width=width)\n",
    "\n",
    "def desenhar_particulas(particles, ax):\n",
    "    #particles - uma lista de objetos Particle\n",
    "    #ax - eixo\n",
    "    #particle_size iniciado bem acima = 10\n",
    "    for p in particles:\n",
    "        desenhar_setas(p.x, p.y, p.theta, ax, particle_size, color='b')"
   ]
  },
  {
   "cell_type": "code",
   "execution_count": null,
   "metadata": {
    "collapsed": true
   },
   "outputs": [],
   "source": [
    "#Iniciar as partículas para que o desenho ocorra\n",
    "def iniciar_particulas(xy_theta=None):\n",
    "    #xy_theta: a triple consisting of the mean x, y, and theta (yaw) to initialize the\n",
    "    #particle cloud around.\n",
    "    if xy_theta == None:\n",
    "        #xy_theta = convert_pose_to_xy_and_theta(.odom_pose.pose)\n",
    "        pass\n",
    "    # TODO create particles\n",
    "    particle_cloud = criar_particulas(500,400,400,250,250)\n",
    "        \n",
    "    inspercles.normalize_particles(particle_cloud)\n",
    "    inspercles.update_robot_pose(particle_cloud, np.ones(len(particle_cloud)))    \n",
    "    return particle_cloud"
   ]
  },
  {
   "cell_type": "code",
   "execution_count": null,
   "metadata": {
    "collapsed": true
   },
   "outputs": [],
   "source": [
    "initial_pose = [200, 200, math.pi/8] # Posicao inicial considerada para o\n",
    "pose = [320, 200, math.radians(90)] # posicao \"verdadeira\" do robo \n",
    "\n",
    "def desenhar_posicao_inicial(pose_xytheta, ax):\n",
    "    x = pose_xytheta[0]\n",
    "    y = pose_xytheta[1]\n",
    "    theta = pose_xytheta[2]\n",
    "    l = 15\n",
    "    desenhar_setas(x, y, theta, ax, l=l, color='r', width=2, headwidth=6, headlength=6)"
   ]
  },
  {
   "cell_type": "code",
   "execution_count": null,
   "metadata": {
    "collapsed": true
   },
   "outputs": [],
   "source": [
    "def desenhar_robo(position, ax, radius=10):\n",
    "    from matplotlib.patches import Circle\n",
    "    circle = Circle((position[0], position[1]), radius, facecolor='none',\n",
    "                    edgecolor=(0.0, 0.8, 0.2), linewidth=2, alpha=0.7)\n",
    "    ax.add_patch(circle)"
   ]
  },
  {
   "cell_type": "code",
   "execution_count": null,
   "metadata": {
    "collapsed": true
   },
   "outputs": [],
   "source": [
    "#Para iniciar o mapa\n",
    "def desenhar_mapa(mapa_numpy, particles = None, initial_position=False, pose=False, robot=False):\n",
    "    \"\"\"\n",
    "        particles - um conjunto de partículas definidas como objetos do tipo partícula\n",
    "\n",
    "        initial_position - cor para desenhar a posição inicial do robo\n",
    "\n",
    "        pose - pose do robo\n",
    "\n",
    "        robot - booleano que determina se o robô é desenhado como um círculo ou não\n",
    "    \"\"\"\n",
    "    fig, ax = plt.subplots(figsize=(10,10))\n",
    "    ax.set(xlim=[0, width], ylim=[0, height]) # Or use \"ax.axis([x0,x1,y0,y1])\"\n",
    "\n",
    "    fig.canvas.draw()\n",
    "\n",
    "    #def update():\n",
    "\n",
    "    plt.imshow(mapa_numpy, cmap='Greys_r')\n",
    "    if initial_position:\n",
    "        desenhar_posicao_inicial(initial_pose,ax)\n",
    "    if particles:\n",
    "        desenhar_particulas(particles, ax)\n",
    "    if pose:\n",
    "        desenhar_setas(pose[0], pose[1], pose[2], ax, color='g', width=2, headwidth=6, headlength=6)\n",
    "    if robot:\n",
    "        desenhar_robo(pose, ax, radius=robot_radius)\n",
    "\n",
    "    return ax # Retornamos o contexto grafico caso queiram fazer algo depois"
   ]
  },
  {
   "cell_type": "code",
   "execution_count": null,
   "metadata": {
    "scrolled": false
   },
   "outputs": [],
   "source": [
    "# Inicializa as particulas e o robô\n",
    "\n",
    "novas_particulas = iniciar_particulas()\n",
    "desenhar_mapa(color_image, particles = novas_particulas, initial_position=initial_pose, pose=pose, robot=True)"
   ]
  },
  {
   "cell_type": "markdown",
   "metadata": {},
   "source": [
    "### Movimentando o robô"
   ]
  },
  {
   "cell_type": "code",
   "execution_count": null,
   "metadata": {
    "collapsed": true
   },
   "outputs": [],
   "source": [
    "# Coloque nesta lista os deslocamentos do robo\n",
    "\n",
    "movimentos = [[-10, -10, 0], [-10, 10, 0], [-10,0,0], [-10, 0, 0],\n",
    "              [0,0,math.pi/12.0], [0, 0, math.pi/12.0], [0, 0, math.pi/12],[0,0,-math.pi/4],\n",
    "              [-5, 0, 0],[-5,0,0], [-5,0,0], [-10,0,0],[-10,0,0], [-10,0,0],[-10,0,0],[-10,0,0],[-15,0,0],\n",
    "              [0,0,-math.pi/4],[0, 10, 0], [0,10,0], [0, 10, 0], [0,10,0], [0,0,math.pi/8], [0,10,0], [0,10,0], \n",
    "              [0,10,0], [0,10,0], [0,10,0],[0,10,0],\n",
    "              [0,0,-math.radians(90)],\n",
    "              [math.cos(math.pi/3)*10, math.sin(math.pi/3),0],[math.cos(math.pi/3)*10, math.sin(math.pi/3),0],[math.cos(math.pi/3)*10, math.sin(math.pi/3),0],\n",
    "              [math.cos(math.pi/3)*10, math.sin(math.pi/3),0]\n",
    "             ]"
   ]
  },
  {
   "cell_type": "code",
   "execution_count": null,
   "metadata": {
    "collapsed": true
   },
   "outputs": [],
   "source": [
    "#Crie uma função que aplica um deslocamento [delta_x, delta_y, delta_theta]\n",
    "#com um desvio padrão [std_x, std_y, std_theta] a todas as partículas\n",
    "\n",
    "def deslocamento(novas_particulas, delta, pose):\n",
    "    #Desloca a posição da partícula\n",
    "    delta_x = delta[0]\n",
    "    delta_y = delta[1]\n",
    "    delta_theta = delta[2]\n",
    "    \n",
    "    for p in novas_particulas:\n",
    "        Ex = random.gauss(0, 2)\n",
    "        Ey = random.gauss(0, 2)\n",
    "        Etheta = random.gauss(0, math.radians(10))\n",
    "        p.x = p.x + delta_x + Ex\n",
    "        p.y = p.y + delta_y + Ey\n",
    "        p.theta = p.theta + delta_theta + Etheta\n",
    "        \n",
    "    pose[0] += delta_x\n",
    "    pose[1] += delta_y\n",
    "    pose[2] += delta_theta\n",
    "    \n",
    "    lista_produto = []\n",
    "    \n",
    "    for particula in novas_particulas:\n",
    "        zjchapeu = inspercles.nb_simulate_lidar_fast(pose, angles, np_image)[0]\n",
    "        produto = 1\n",
    "        for i in angles:\n",
    "            P = math.e**(-(i-zjchapeu.values()[0]) /((2*5)**2) )\n",
    "            produto = produto * P\n",
    "        lista_produto.append(produto)\n",
    "    \n",
    "    soma_lista_produto = sum(lista_produto)\n",
    "    alpha = 1/soma_lista_produto\n",
    "    \n",
    "    global pesos_particulas\n",
    "    \n",
    "    pesos_particulas = []\n",
    "    \n",
    "    for i in range(len(lista_produto)):\n",
    "         pesos_particulas.append(lista_produto[i]*alpha)\n",
    "            \n",
    "\n",
    "#zi = leituras\n",
    "#zjchapeu é novas_particulas\n",
    "#desvio padrao de 5cm\n",
    "#tem que fazer um 'for' com norm.pdf(zj (aquele das leituras), loc=zjchapeu(cada particula), scale=5cm)"
   ]
  },
  {
   "cell_type": "code",
   "execution_count": null,
   "metadata": {},
   "outputs": [],
   "source": [
    "leituras, lidar_map = inspercles.nb_simulate_lidar_fast(pose, angles, np_image)\n",
    "mapa = desenhar_mapa(color_image, particles = novas_particulas, initial_position=initial_pose, pose=pose, robot=True)\n",
    "mapa.imshow(lidar_map, alpha=0.6)"
   ]
  },
  {
   "cell_type": "code",
   "execution_count": null,
   "metadata": {},
   "outputs": [],
   "source": [
    "#Desenhe as partículas após o deslocamento\n",
    "# Inicializa as particulas\n",
    "deslocamento(novas_particulas, movimentos[0], pose)\n",
    "desenhar_mapa(color_image, particles = novas_particulas, initial_position=initial_pose, pose=pose, robot=True)"
   ]
  },
  {
   "cell_type": "code",
   "execution_count": null,
   "metadata": {
    "collapsed": true
   },
   "outputs": [],
   "source": [
    "particulas_reamostradas = Particle.draw_random_sample(novas_particulas, pesos_particulas, 100)\n",
    "\n",
    "for n_p in particulas_reamostradas:\n",
    "    n_p.w = 1.0"
   ]
  },
  {
   "cell_type": "code",
   "execution_count": null,
   "metadata": {
    "collapsed": true,
    "scrolled": false
   },
   "outputs": [],
   "source": [
    "plt.ioff() # Desliga o modo interativo, para nao aparecerem muitas imagens no meio\n",
    "\n",
    "frames = 1\n",
    "\n",
    "for delta in movimentos:\n",
    "    deslocamento(novas_particulas, delta, pose)\n",
    "\n",
    "    # Simula a leitura do lidar\n",
    "    leituras, lidar_map = inspercles.nb_simulate_lidar_fast(pose, angles, np_image)\n",
    "    \n",
    "    for p in novas_particulas:\n",
    "        retorno_lidar_robo = np.copy(lidar_map)\n",
    "        retorno_lidar_particulas = np.copy(lidar_map)\n",
    "        leituras, l2 = inspercles.nb_simulate_lidar_fast([p.x,p.y,p.theta], angles, np_image, retorno = retorno_lidar_particulas, output_image = False)\n",
    "\n",
    "    \n",
    "    particulas_reamostradas = Particle.draw_random_sample(novas_particulas, pesos_particulas, 500)\n",
    "    particulas_pesos_depois = [p.w for p in particulas_reamostradas]\n",
    "    pesos_total = sum(particulas_pesos_depois)\n",
    "\n",
    "    for n_p in particulas_reamostradas:\n",
    "        n_p.normalize(pesos_total)\n",
    "\n",
    "    pesos_novos = [p.w for p in particulas_reamostradas]\n",
    "    valores_novas_particulas = [[p.x, p.y, p.theta] for p in particulas_reamostradas]\n",
    "\n",
    "    # Desenha as particulas\n",
    "    mapa = desenhar_mapa(color_image, particles = particulas_reamostradas, initial_position=initial_pose, pose=pose, robot=True)\n",
    "    #ax.imshow(occupancy_image, alph.2)\n",
    "    # Desenha o mapa do lidar\n",
    "    \n",
    "    mapa.imshow(lidar_map, alpha=0.5)\n",
    "\n",
    "    plt.savefig(\"anim%04d.png\"%frames, bounds=\"tight\")\n",
    "    \n",
    "    frames+=1\n",
    "    plt.close('all')\n",
    "\n",
    "\n",
    "plt.ion()\n"
   ]
  },
  {
   "cell_type": "code",
   "execution_count": null,
   "metadata": {
    "collapsed": true
   },
   "outputs": [],
   "source": [
    "!convert -delay 10 -loop 1 anim*png animated.gif"
   ]
  },
  {
   "cell_type": "code",
   "execution_count": null,
   "metadata": {
    "collapsed": true
   },
   "outputs": [],
   "source": []
  }
 ],
 "metadata": {
  "kernelspec": {
   "display_name": "Python 2",
   "language": "python",
   "name": "python2"
  },
  "language_info": {
   "codemirror_mode": {
    "name": "ipython",
    "version": 2
   },
   "file_extension": ".py",
   "mimetype": "text/x-python",
   "name": "python",
   "nbconvert_exporter": "python",
   "pygments_lexer": "ipython2",
   "version": "2.7.12"
  }
 },
 "nbformat": 4,
 "nbformat_minor": 1
}
